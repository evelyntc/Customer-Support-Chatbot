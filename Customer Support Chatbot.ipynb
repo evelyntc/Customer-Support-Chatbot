{
 "cells": [
  {
   "cell_type": "code",
   "execution_count": 21,
   "metadata": {},
   "outputs": [],
   "source": [
    "from chatterbot import ChatBot"
   ]
  },
  {
   "cell_type": "code",
   "execution_count": 22,
   "metadata": {},
   "outputs": [],
   "source": [
    "bot = ChatBot('Helper', read_only = True)"
   ]
  },
  {
   "cell_type": "code",
   "execution_count": 23,
   "metadata": {},
   "outputs": [],
   "source": [
    "from chatterbot.trainers import ListTrainer"
   ]
  },
  {
   "cell_type": "code",
   "execution_count": 24,
   "metadata": {},
   "outputs": [],
   "source": [
    "trainer = ListTrainer(bot)"
   ]
  },
  {
   "cell_type": "code",
   "execution_count": 25,
   "metadata": {},
   "outputs": [
    {
     "name": "stdout",
     "output_type": "stream",
     "text": [
      "List Trainer: [####################] 100%\n",
      "List Trainer: [####################] 100%\n"
     ]
    }
   ],
   "source": [
    "trainer.train([\n",
    "    \"Hi, can I help you\",\n",
    "    \"Who are you?\",\n",
    "    \"I am your virtual assistant. Ask me any questions...\",\n",
    "    \"Where do you operate?\",\n",
    "    \"We operate from United States\",\n",
    "    \"What payment methods do you accept?\",\n",
    "    \"We accept debit cards and major credit cards\",\n",
    "    \"I would like to speak to your customer service agent\",\n",
    "    \"please call 1-800-555-5555. Our operating hours are from 9am to 5pm, Monday to Friday\"\n",
    "    \n",
    "])\n",
    "trainer.train([\n",
    "    \"What payment methods do you offer?\",\n",
    "    \"We accept debit cards and major credit cards\",\n",
    "    \"How to contact customer service agent\",\n",
    "    \"please call 1-800-555-5555. Our operating hours are from 9am to 5pm, Monday to Friday\"\n",
    "    \n",
    "])"
   ]
  },
  {
   "cell_type": "code",
   "execution_count": 26,
   "metadata": {},
   "outputs": [],
   "source": [
    "response = bot.get_response('who are you')"
   ]
  },
  {
   "cell_type": "code",
   "execution_count": 27,
   "metadata": {},
   "outputs": [
    {
     "name": "stdout",
     "output_type": "stream",
     "text": [
      "I am your virtual assistant. Ask me any questions...\n"
     ]
    }
   ],
   "source": [
    "print(response)"
   ]
  },
  {
   "cell_type": "code",
   "execution_count": 28,
   "metadata": {},
   "outputs": [
    {
     "name": "stdout",
     "output_type": "stream",
     "text": [
      "Enter your name:evelyn\n",
      "Welcome to your Helper Service! What can I help you with?\n",
      "evelyn:What payment methods do you accept\n",
      "Helper: We accept debit cards and major credit cards\n",
      "evelyn:bye\n",
      "Helper: Have a good day\n"
     ]
    }
   ],
   "source": [
    "name = input('Enter your name:')\n",
    "\n",
    "print('Welcome to your Helper Service! What can I help you with?')\n",
    "\n",
    "while True:\n",
    "    \n",
    "    request = input(name+':')\n",
    "    \n",
    "    if request=='Bye' or request == 'bye':\n",
    "        print('Helper: Have a good day')\n",
    "        break\n",
    "    else:\n",
    "        response=bot.get_response(request)\n",
    "        print('Helper:', response)"
   ]
  },
  {
   "cell_type": "code",
   "execution_count": 29,
   "metadata": {},
   "outputs": [],
   "source": [
    "from chatterbot.trainers import ChatterBotCorpusTrainer"
   ]
  },
  {
   "cell_type": "code",
   "execution_count": 30,
   "metadata": {},
   "outputs": [
    {
     "name": "stdout",
     "output_type": "stream",
     "text": [
      "Training ai.yml: [####################] 100%\n",
      "Training botprofile.yml: [####################] 100%\n",
      "Training computers.yml: [####################] 100%\n",
      "Training conversations.yml: [####################] 100%\n",
      "Training emotion.yml: [####################] 100%\n",
      "Training food.yml: [####################] 100%\n",
      "Training gossip.yml: [####################] 100%\n",
      "Training greetings.yml: [####################] 100%\n",
      "Training health.yml: [####################] 100%\n",
      "Training history.yml: [####################] 100%\n",
      "Training humor.yml: [####################] 100%\n",
      "Training literature.yml: [####################] 100%\n",
      "Training money.yml: [####################] 100%\n",
      "Training movies.yml: [####################] 100%\n",
      "Training politics.yml: [####################] 100%\n",
      "Training psychology.yml: [####################] 100%\n",
      "Training science.yml: [####################] 100%\n",
      "Training sports.yml: [####################] 100%\n",
      "Training trivia.yml: [####################] 100%\n"
     ]
    }
   ],
   "source": [
    "trainer = ChatterBotCorpusTrainer(bot)\n",
    "trainer.train('chatterbot.corpus.english')"
   ]
  },
  {
   "cell_type": "code",
   "execution_count": 13,
   "metadata": {},
   "outputs": [],
   "source": [
    "# bot = ChatBot('Helper',\n",
    "#               read_only = True,\n",
    "#               preprocessors=\n",
    "#              ['chatterbot.preprocessors.clean_whitespace',\n",
    "#               'chatterbot.preprocessors.unescape_html',\n",
    "#               'chatterbot.preprocessors.convert_to_ascii'])"
   ]
  },
  {
   "cell_type": "code",
   "execution_count": 14,
   "metadata": {},
   "outputs": [],
   "source": [
    "# bot = ChatBot('Helper', \n",
    "#               logic_adapters = [\n",
    "#                   {\n",
    "#                       'import_path': 'chatterbot.logic.BestMatch',\n",
    "#                      'default_response': 'I am sorry, I do not understand. I am still learning. Please contact abc@xxx.com for further assistance.',\n",
    "#                      'maximum_similarity_threshold': 0.90\n",
    "#                  }\n",
    "#              ],\n",
    "#              read_only = True,\n",
    "#              preprocessors=['chatterbot.preprocessors.clean_whitespace',\n",
    "# 'chatterbot.preprocessors.unescape_html',\n",
    "# 'chatterbot.preprocessors.convert_to_ascii'])"
   ]
  },
  {
   "cell_type": "code",
   "execution_count": 34,
   "metadata": {},
   "outputs": [
    {
     "name": "stdout",
     "output_type": "stream",
     "text": [
      "Enter your name:evelyn\n",
      "Welcome to your Helper Service! What can I help you with?\n",
      "evelyn:I need money tips\n",
      "Helper: How much money have you lost?\n",
      "evelyn:9000000000\n",
      "Helper: Well? Is it, or isn't it?\n",
      "evelyn:yes\n",
      "Helper: George Herman Ruth. Quite the Babe.\n",
      "evelyn:what?\n",
      "Helper: I am not actually capable of feeling jealousy, but I can learn how to emote as if I were.\n",
      "evelyn:whatever\n",
      "Helper: Unless explicitly silenced.\n",
      "evelyn:bye\n",
      "Helper: Have a good day\n"
     ]
    }
   ],
   "source": [
    "name = input('Enter your name:')\n",
    "\n",
    "print('Welcome to your Helper Service! What can I help you with?')\n",
    "\n",
    "while True:\n",
    "    \n",
    "    request = input(name+':')\n",
    "    \n",
    "    if request=='Bye' or request == 'bye':\n",
    "        print('Helper: Have a good day')\n",
    "        break\n",
    "    else:\n",
    "        response=bot.get_response(request)\n",
    "        print('Helper:', response)\n"
   ]
  },
  {
   "cell_type": "code",
   "execution_count": null,
   "metadata": {},
   "outputs": [],
   "source": []
  },
  {
   "cell_type": "code",
   "execution_count": null,
   "metadata": {},
   "outputs": [],
   "source": [
    "#Sources\n",
    "#https://towardsdatascience.com/beginners-guide-to-creating-a-powerful-chatbot-48fc6b073e55\n",
    "#https://www.datacamp.com/community/tutorials/building-a-chatbot-using-chatterbot"
   ]
  }
 ],
 "metadata": {
  "kernelspec": {
   "display_name": "Python 3",
   "language": "python",
   "name": "python3"
  },
  "language_info": {
   "codemirror_mode": {
    "name": "ipython",
    "version": 3
   },
   "file_extension": ".py",
   "mimetype": "text/x-python",
   "name": "python",
   "nbconvert_exporter": "python",
   "pygments_lexer": "ipython3",
   "version": "3.7.4"
  }
 },
 "nbformat": 4,
 "nbformat_minor": 2
}
